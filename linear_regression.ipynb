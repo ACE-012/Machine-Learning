{
 "cells": [
  {
   "cell_type": "code",
   "execution_count": 1,
   "metadata": {},
   "outputs": [],
   "source": [
    "import pandas\n",
    "import numpy as np\n",
    "import shutil\n",
    "import matplotlib.pyplot as plt\n",
    "import math\n",
    "import os\n",
    "import glob"
   ]
  },
  {
   "cell_type": "code",
   "execution_count": 2,
   "metadata": {},
   "outputs": [],
   "source": [
    "ROOT_DIR=\"./Datasets/lung\"\n",
    "number_of_images={}\n",
    "for dir in os.listdir(ROOT_DIR):\n",
    "    number_of_images[dir]=len(os.listdir(os.path.join(ROOT_DIR,dir)))"
   ]
  },
  {
   "cell_type": "code",
   "execution_count": 3,
   "metadata": {},
   "outputs": [
    {
     "name": "stdout",
     "output_type": "stream",
     "text": [
      "dict_items([('Normal cases', 416), ('Malignant cases', 561)])\n",
      "--xla_gpu_cuda_data_dir=/usr/lib/cuda\n",
      "cuda_malloc_async\n"
     ]
    },
    {
     "data": {
      "text/plain": [
       "0"
      ]
     },
     "execution_count": 3,
     "metadata": {},
     "output_type": "execute_result"
    }
   ],
   "source": [
    "print(number_of_images.items(),sep=\"\\n\")\n",
    "os.environ['XLA_FLAGS'] = \"--xla_gpu_cuda_data_dir=/usr/lib/cuda\"\n",
    "os.environ['TF_GPU_ALLOCATOR'] = \"cuda_malloc_async\"\n",
    "os.system('echo $XLA_FLAGS')\n",
    "os.system('echo $TF_GPU_ALLOCATOR')"
   ]
  },
  {
   "cell_type": "code",
   "execution_count": 4,
   "metadata": {},
   "outputs": [],
   "source": [
    "def dataFolder(path,split):\n",
    "    if not os.path.exists(\"./\"+path):\n",
    "        os.mkdir(\"./\"+path)\n",
    "        for dir in os.listdir(ROOT_DIR):\n",
    "            os.makedirs(\"./\"+path+\"/\"+dir)\n",
    "            for img in np.random.choice(a= os.listdir(os.path.join(ROOT_DIR,dir)),\n",
    "                                    size=(math.floor(split*number_of_images[dir])),\n",
    "                                    replace=False):\n",
    "                O=os.path.join(ROOT_DIR,dir,img)\n",
    "                D=os.path.join(\"./\"+path+\"/\",dir)\n",
    "                shutil.copy(O,D)\n",
    "    else:\n",
    "        print(path+\" folder exists\")"
   ]
  },
  {
   "cell_type": "code",
   "execution_count": 5,
   "metadata": {},
   "outputs": [
    {
     "name": "stdout",
     "output_type": "stream",
     "text": [
      "train folder exists\n",
      "val folder exists\n",
      "test folder exists\n"
     ]
    }
   ],
   "source": [
    "dataFolder(\"train\",0.7)\n",
    "dataFolder(\"val\",0.5)\n",
    "dataFolder(\"test\",1)"
   ]
  },
  {
   "cell_type": "code",
   "execution_count": 6,
   "metadata": {},
   "outputs": [
    {
     "name": "stderr",
     "output_type": "stream",
     "text": [
      "2023-09-19 00:06:32.196153: I tensorflow/core/util/port.cc:110] oneDNN custom operations are on. You may see slightly different numerical results due to floating-point round-off errors from different computation orders. To turn them off, set the environment variable `TF_ENABLE_ONEDNN_OPTS=0`.\n",
      "2023-09-19 00:06:32.242453: I tensorflow/core/platform/cpu_feature_guard.cc:182] This TensorFlow binary is optimized to use available CPU instructions in performance-critical operations.\n",
      "To enable the following instructions: AVX2 AVX_VNNI FMA, in other operations, rebuild TensorFlow with the appropriate compiler flags.\n",
      "2023-09-19 00:06:32.756499: W tensorflow/compiler/tf2tensorrt/utils/py_utils.cc:38] TF-TRT Warning: Could not find TensorRT\n"
     ]
    }
   ],
   "source": [
    "from keras.layers import Conv2D,MaxPool2D,Dropout,Flatten,Dense,BatchNormalization,GlobalAvgPool2D\n",
    "from keras.models import Sequential\n",
    "from keras.preprocessing.image import ImageDataGenerator\n",
    "import keras"
   ]
  },
  {
   "cell_type": "code",
   "execution_count": 7,
   "metadata": {},
   "outputs": [
    {
     "name": "stdout",
     "output_type": "stream",
     "text": [
      "Model: \"sequential\"\n",
      "_________________________________________________________________\n",
      " Layer (type)                Output Shape              Param #   \n",
      "=================================================================\n",
      " conv2d (Conv2D)             (None, 512, 512, 16)      448       \n",
      "                                                                 \n",
      " conv2d_1 (Conv2D)           (None, 510, 510, 32)      4640      \n",
      "                                                                 \n",
      " max_pooling2d (MaxPooling2  (None, 255, 255, 32)      0         \n",
      " D)                                                              \n",
      "                                                                 \n",
      " conv2d_2 (Conv2D)           (None, 253, 253, 64)      18496     \n",
      "                                                                 \n",
      " max_pooling2d_1 (MaxPoolin  (None, 126, 126, 64)      0         \n",
      " g2D)                                                            \n",
      "                                                                 \n",
      " conv2d_3 (Conv2D)           (None, 124, 124, 128)     73856     \n",
      "                                                                 \n",
      " max_pooling2d_2 (MaxPoolin  (None, 62, 62, 128)       0         \n",
      " g2D)                                                            \n",
      "                                                                 \n",
      " dropout (Dropout)           (None, 62, 62, 128)       0         \n",
      "                                                                 \n",
      " flatten (Flatten)           (None, 492032)            0         \n",
      "                                                                 \n",
      " dense (Dense)               (None, 64)                31490112  \n",
      "                                                                 \n",
      " dropout_1 (Dropout)         (None, 64)                0         \n",
      "                                                                 \n",
      " dense_1 (Dense)             (None, 2)                 130       \n",
      "                                                                 \n",
      "=================================================================\n",
      "Total params: 31587682 (120.50 MB)\n",
      "Trainable params: 31587682 (120.50 MB)\n",
      "Non-trainable params: 0 (0.00 Byte)\n",
      "_________________________________________________________________\n"
     ]
    },
    {
     "name": "stderr",
     "output_type": "stream",
     "text": [
      "2023-09-19 00:06:33.369224: I tensorflow/compiler/xla/stream_executor/cuda/cuda_gpu_executor.cc:981] could not open file to read NUMA node: /sys/bus/pci/devices/0000:01:00.0/numa_node\n",
      "Your kernel may have been built without NUMA support.\n",
      "2023-09-19 00:06:33.397632: I tensorflow/compiler/xla/stream_executor/cuda/cuda_gpu_executor.cc:981] could not open file to read NUMA node: /sys/bus/pci/devices/0000:01:00.0/numa_node\n",
      "Your kernel may have been built without NUMA support.\n",
      "2023-09-19 00:06:33.397723: I tensorflow/compiler/xla/stream_executor/cuda/cuda_gpu_executor.cc:981] could not open file to read NUMA node: /sys/bus/pci/devices/0000:01:00.0/numa_node\n",
      "Your kernel may have been built without NUMA support.\n",
      "2023-09-19 00:06:33.398852: I tensorflow/compiler/xla/stream_executor/cuda/cuda_gpu_executor.cc:981] could not open file to read NUMA node: /sys/bus/pci/devices/0000:01:00.0/numa_node\n",
      "Your kernel may have been built without NUMA support.\n",
      "2023-09-19 00:06:33.398884: I tensorflow/compiler/xla/stream_executor/cuda/cuda_gpu_executor.cc:981] could not open file to read NUMA node: /sys/bus/pci/devices/0000:01:00.0/numa_node\n",
      "Your kernel may have been built without NUMA support.\n",
      "2023-09-19 00:06:33.398897: I tensorflow/compiler/xla/stream_executor/cuda/cuda_gpu_executor.cc:981] could not open file to read NUMA node: /sys/bus/pci/devices/0000:01:00.0/numa_node\n",
      "Your kernel may have been built without NUMA support.\n",
      "2023-09-19 00:06:34.094164: I tensorflow/compiler/xla/stream_executor/cuda/cuda_gpu_executor.cc:981] could not open file to read NUMA node: /sys/bus/pci/devices/0000:01:00.0/numa_node\n",
      "Your kernel may have been built without NUMA support.\n",
      "2023-09-19 00:06:34.094223: I tensorflow/compiler/xla/stream_executor/cuda/cuda_gpu_executor.cc:981] could not open file to read NUMA node: /sys/bus/pci/devices/0000:01:00.0/numa_node\n",
      "Your kernel may have been built without NUMA support.\n",
      "2023-09-19 00:06:34.094229: I tensorflow/core/common_runtime/gpu/gpu_device.cc:1726] Could not identify NUMA node of platform GPU id 0, defaulting to 0.  Your kernel may not have been built with NUMA support.\n",
      "2023-09-19 00:06:34.094247: I tensorflow/compiler/xla/stream_executor/cuda/cuda_gpu_executor.cc:981] could not open file to read NUMA node: /sys/bus/pci/devices/0000:01:00.0/numa_node\n",
      "Your kernel may have been built without NUMA support.\n",
      "2023-09-19 00:06:34.094258: I tensorflow/core/common_runtime/gpu/gpu_process_state.cc:227] Using CUDA malloc Async allocator for GPU: 0\n",
      "2023-09-19 00:06:34.094379: I tensorflow/core/common_runtime/gpu/gpu_device.cc:1639] Created device /job:localhost/replica:0/task:0/device:GPU:0 with 3916 MB memory:  -> device: 0, name: NVIDIA GeForce GTX 1660 SUPER, pci bus id: 0000:01:00.0, compute capability: 7.5\n"
     ]
    }
   ],
   "source": [
    "model =Sequential()\n",
    "# model.add(Conv2D(filters=8,kernel_size=(3,3),activation='relu',input_shape=(512,512,3),padding='same'))\n",
    "# model.add(Conv2D(16, 3, activation='relu'))\n",
    "# model.add(MaxPool2D())\n",
    "# model.add(Conv2D(16, 3, activation='relu'))\n",
    "# model.add(MaxPool2D())\n",
    "# model.add(Conv2D(16, 3, activation='relu'))\n",
    "# model.add(MaxPool2D())\n",
    "# model.add(Flatten())\n",
    "# model.add(Dense(64, activation='relu'))\n",
    "# model.add(Dense(units=1))\n",
    "# # model.add(Dense(3))\n",
    "# model.summary()\n",
    "model.add(Conv2D(filters=16,kernel_size=(3,3),activation='relu',input_shape=(512,512,3),padding='same'))\n",
    "model.add(Conv2D(filters=32,kernel_size=(3,3),activation='relu'))\n",
    "model.add(MaxPool2D(pool_size=(2,2)))\n",
    "model.add(Conv2D(filters=64,kernel_size=(3,3),activation='relu'))\n",
    "model.add(MaxPool2D(pool_size=(2,2)))\n",
    "model.add(Conv2D(filters=128,kernel_size=(3,3),activation='relu'))\n",
    "model.add(MaxPool2D(pool_size=(2,2)))\n",
    "model.add(Dropout(rate=0.25))\n",
    "model.add(Flatten())\n",
    "model.add(Dense(units=64,activation='relu'))\n",
    "model.add(Dropout(rate=0.25))\n",
    "model.add(Dense(units=2,activation='relu'))\n",
    "model.summary()"
   ]
  },
  {
   "cell_type": "code",
   "execution_count": 8,
   "metadata": {},
   "outputs": [],
   "source": [
    "model.compile(optimizer='adam',loss=keras.losses.binary_crossentropy,metrics=['accuracy'])"
   ]
  },
  {
   "cell_type": "code",
   "execution_count": 9,
   "metadata": {},
   "outputs": [
    {
     "name": "stdout",
     "output_type": "stream",
     "text": [
      "Found 683 images belonging to 2 classes.\n"
     ]
    },
    {
     "data": {
      "text/plain": [
       "{'Malignant cases': 0, 'Normal cases': 1}"
      ]
     },
     "execution_count": 9,
     "metadata": {},
     "output_type": "execute_result"
    }
   ],
   "source": [
    "train_data=ImageDataGenerator(zoom_range=0.2,shear_range=0.2,\n",
    "                   horizontal_flip=True).flow_from_directory(directory='./train',target_size=(512,512),batch_size=32,class_mode='binary')\n",
    "train_data.class_indices"
   ]
  },
  {
   "cell_type": "code",
   "execution_count": 10,
   "metadata": {},
   "outputs": [
    {
     "name": "stdout",
     "output_type": "stream",
     "text": [
      "Found 977 images belonging to 2 classes.\n",
      "Found 488 images belonging to 2 classes.\n"
     ]
    }
   ],
   "source": [
    "test_data=ImageDataGenerator().flow_from_directory(\n",
    "    directory='./test',target_size=(512,512),batch_size=32,class_mode='binary')\n",
    "val_data=ImageDataGenerator().flow_from_directory(\n",
    "    directory='./val',target_size=(512,512),batch_size=32,class_mode='binary')"
   ]
  },
  {
   "cell_type": "code",
   "execution_count": 11,
   "metadata": {},
   "outputs": [],
   "source": [
    "from keras.callbacks import ModelCheckpoint,EarlyStopping\n",
    "es=EarlyStopping(monitor=\"val_accuracy\",min_delta=0.01,patience=4,verbose=1,mode='auto')\n",
    "mc=ModelCheckpoint(monitor=\"val_accuracy\",filepath=\"./bestmodel.h5\",verbose=1,save_best_only=True,mode='auto')\n",
    "cd=[es,mc]"
   ]
  },
  {
   "cell_type": "code",
   "execution_count": 12,
   "metadata": {},
   "outputs": [
    {
     "name": "stdout",
     "output_type": "stream",
     "text": [
      "Epoch 1/10\n"
     ]
    },
    {
     "name": "stderr",
     "output_type": "stream",
     "text": [
      "2023-09-19 00:06:35.810718: E tensorflow/core/grappler/optimizers/meta_optimizer.cc:954] layout failed: INVALID_ARGUMENT: Size of values 0 does not match size of permutation 4 @ fanin shape insequential/dropout/dropout/SelectV2-2-TransposeNHWCToNCHW-LayoutOptimizer\n",
      "2023-09-19 00:06:37.401624: I tensorflow/compiler/xla/stream_executor/cuda/cuda_dnn.cc:432] Loaded cuDNN version 8600\n",
      "2023-09-19 00:06:46.973451: I tensorflow/compiler/xla/service/service.cc:168] XLA service 0x7f6682cd3850 initialized for platform CUDA (this does not guarantee that XLA will be used). Devices:\n",
      "2023-09-19 00:06:46.973495: I tensorflow/compiler/xla/service/service.cc:176]   StreamExecutor device (0): NVIDIA GeForce GTX 1660 SUPER, Compute Capability 7.5\n",
      "2023-09-19 00:06:46.976569: I tensorflow/compiler/mlir/tensorflow/utils/dump_mlir_util.cc:255] disabling MLIR crash reproducer, set env var `MLIR_CRASH_REPRODUCER_DIRECTORY` to enable.\n",
      "2023-09-19 00:06:47.056418: I ./tensorflow/compiler/jit/device_compiler.h:186] Compiled cluster using XLA!  This line is logged at most once for the lifetime of the process.\n"
     ]
    },
    {
     "name": "stdout",
     "output_type": "stream",
     "text": [
      "16/16 [==============================] - ETA: 0s - loss: 7.1375 - accuracy: 0.5397\n",
      "Epoch 1: val_accuracy improved from -inf to 0.57377, saving model to ./bestmodel.h5\n"
     ]
    },
    {
     "name": "stderr",
     "output_type": "stream",
     "text": [
      "/home/star/miniconda3/envs/tf/lib/python3.9/site-packages/keras/src/engine/training.py:3000: UserWarning: You are saving your model as an HDF5 file via `model.save()`. This file format is considered legacy. We recommend using instead the native Keras format, e.g. `model.save('my_model.keras')`.\n",
      "  saving_api.save_model(\n"
     ]
    },
    {
     "name": "stdout",
     "output_type": "stream",
     "text": [
      "16/16 [==============================] - 72s 1s/step - loss: 7.1375 - accuracy: 0.5397 - val_loss: 6.5746 - val_accuracy: 0.5738\n",
      "Epoch 2/10\n",
      "16/16 [==============================] - ETA: 0s - loss: 6.7857 - accuracy: 0.5601\n",
      "Epoch 2: val_accuracy did not improve from 0.57377\n",
      "16/16 [==============================] - 14s 857ms/step - loss: 6.7857 - accuracy: 0.5601 - val_loss: 6.5746 - val_accuracy: 0.5738\n",
      "Epoch 3/10\n",
      "16/16 [==============================] - ETA: 0s - loss: 6.3145 - accuracy: 0.5906\n",
      "Epoch 3: val_accuracy did not improve from 0.57377\n",
      "16/16 [==============================] - 14s 844ms/step - loss: 6.3145 - accuracy: 0.5906 - val_loss: 6.5746 - val_accuracy: 0.5738\n",
      "Epoch 4/10\n",
      "16/16 [==============================] - ETA: 0s - loss: 6.5813 - accuracy: 0.5723\n",
      "Epoch 4: val_accuracy did not improve from 0.57377\n",
      "16/16 [==============================] - 14s 909ms/step - loss: 6.5813 - accuracy: 0.5723 - val_loss: 6.5746 - val_accuracy: 0.5738\n",
      "Epoch 5/10\n",
      "16/16 [==============================] - ETA: 0s - loss: 6.7225 - accuracy: 0.5621\n",
      "Epoch 5: val_accuracy did not improve from 0.57377\n",
      "16/16 [==============================] - 14s 850ms/step - loss: 6.7225 - accuracy: 0.5621 - val_loss: 6.5746 - val_accuracy: 0.5738\n",
      "Epoch 5: early stopping\n"
     ]
    }
   ],
   "source": [
    "hs=model.fit(train_data,\n",
    "                       steps_per_epoch=16,\n",
    "                       epochs=10,verbose=1,\n",
    "                       validation_data=val_data,validation_steps=16,\n",
    "                       callbacks=cd)"
   ]
  },
  {
   "cell_type": "code",
   "execution_count": 13,
   "metadata": {},
   "outputs": [],
   "source": [
    "from keras.preprocessing.image import load_img,img_to_array"
   ]
  },
  {
   "cell_type": "code",
   "execution_count": null,
   "metadata": {},
   "outputs": [],
   "source": []
  },
  {
   "cell_type": "code",
   "execution_count": 18,
   "metadata": {},
   "outputs": [
    {
     "name": "stdout",
     "output_type": "stream",
     "text": [
      "1/1 [==============================] - 0s 14ms/step\n",
      "[[0. 0.]]\n",
      "[0.0, 0.0]\n",
      "['Malignant cases', 'Normal cases']\n",
      "Malignant cases\n"
     ]
    }
   ],
   "source": [
    "path=\"./Datasets/lung/Malignant cases/Malignant case (32).jpg\"\n",
    "img=load_img(path,target_size=(512,512))\n",
    "arr=img_to_array(img)\n",
    "arr.shape\n",
    "arr=np.expand_dims(arr,axis=0)\n",
    "pred=model.predict(arr)\n",
    "pred_1=list(pred[0])\n",
    "print(pred)\n",
    "print(pred_1)\n",
    "ans=list(train_data.class_indices.keys())\n",
    "print(ans)\n",
    "print(ans[pred_1.index(max(pred_1))])"
   ]
  }
 ],
 "metadata": {
  "kernelspec": {
   "display_name": "tf",
   "language": "python",
   "name": "python3"
  },
  "language_info": {
   "codemirror_mode": {
    "name": "ipython",
    "version": 3
   },
   "file_extension": ".py",
   "mimetype": "text/x-python",
   "name": "python",
   "nbconvert_exporter": "python",
   "pygments_lexer": "ipython3",
   "version": "3.9.18"
  },
  "orig_nbformat": 4
 },
 "nbformat": 4,
 "nbformat_minor": 2
}
