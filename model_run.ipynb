{
 "cells": [
  {
   "cell_type": "code",
   "execution_count": 9,
   "metadata": {},
   "outputs": [],
   "source": [
    "import numpy as np\n",
    "import tensorflow as tf\n",
    "from keras.models import Sequential\n",
    "from custom_fn import specificity,recall\n",
    "class_names=['Malignant', 'Normal   ']"
   ]
  },
  {
   "cell_type": "code",
   "execution_count": 10,
   "metadata": {},
   "outputs": [],
   "source": [
    "custom_objects = {\"specificity\": specificity, \"recall\": recall}\n",
    "model:Sequential=tf.keras.models.load_model('./bestmodel.h5',custom_objects=custom_objects) # type: ignore"
   ]
  },
  {
   "cell_type": "code",
   "execution_count": 19,
   "metadata": {},
   "outputs": [],
   "source": [
    "from keras.preprocessing.image import load_img,img_to_array\n",
    "path=\"./Datasets/lung/Normal cases/Normal case (349).jpg\"\n",
    "img=load_img(path,target_size=(512,512))"
   ]
  },
  {
   "cell_type": "code",
   "execution_count": 20,
   "metadata": {},
   "outputs": [
    {
     "name": "stdout",
     "output_type": "stream",
     "text": [
      "1/1 [==============================] - 0s 11ms/step\n",
      "Malignant\t:0.67%\n",
      "Normal   \t:99.33%\n"
     ]
    }
   ],
   "source": [
    "arr=img_to_array(img)\n",
    "arr=np.expand_dims(arr,axis=0)\n",
    "pred=model.predict(arr)[0][0]\n",
    "print(f'{class_names[0]}\\t:{(1-pred)*100:.2f}%')\n",
    "print(f'{class_names[1]}\\t:{(pred)*100:.2f}%')"
   ]
  }
 ],
 "metadata": {
  "kernelspec": {
   "display_name": "Machine Learning",
   "language": "python",
   "name": "python3"
  },
  "language_info": {
   "codemirror_mode": {
    "name": "ipython",
    "version": 3
   },
   "file_extension": ".py",
   "mimetype": "text/x-python",
   "name": "python",
   "nbconvert_exporter": "python",
   "pygments_lexer": "ipython3",
   "version": "3.10.12"
  }
 },
 "nbformat": 4,
 "nbformat_minor": 2
}
